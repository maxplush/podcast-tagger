{
 "cells": [
  {
   "cell_type": "code",
   "execution_count": 1,
   "metadata": {},
   "outputs": [
    {
     "data": {
      "text/html": [
       "<div>\n",
       "<style scoped>\n",
       "    .dataframe tbody tr th:only-of-type {\n",
       "        vertical-align: middle;\n",
       "    }\n",
       "\n",
       "    .dataframe tbody tr th {\n",
       "        vertical-align: top;\n",
       "    }\n",
       "\n",
       "    .dataframe thead th {\n",
       "        text-align: right;\n",
       "    }\n",
       "</style>\n",
       "<table border=\"1\" class=\"dataframe\">\n",
       "  <thead>\n",
       "    <tr style=\"text-align: right;\">\n",
       "      <th></th>\n",
       "      <th>Episode Name</th>\n",
       "      <th>Episode URL</th>\n",
       "      <th>Transcription URL</th>\n",
       "      <th>Transcription Text</th>\n",
       "    </tr>\n",
       "  </thead>\n",
       "  <tbody>\n",
       "    <tr>\n",
       "      <th>0</th>\n",
       "      <td>Middle schoolers as scholars: Critical partici...</td>\n",
       "      <td>https://ethicalschools.org/2024/10/middle-scho...</td>\n",
       "      <td>https://0da.6f4.myftpupload.com/2024/10/middle...</td>\n",
       "      <td>Download file | Play in new window | Duration:...</td>\n",
       "    </tr>\n",
       "    <tr>\n",
       "      <th>1</th>\n",
       "      <td>Equity by design: residency-focused teacher ed...</td>\n",
       "      <td>https://ethicalschools.org/2024/09/equity-by-d...</td>\n",
       "      <td>https://0da.6f4.myftpupload.com/2024/09/equity...</td>\n",
       "      <td>Download file | Play in new window | Duration:...</td>\n",
       "    </tr>\n",
       "    <tr>\n",
       "      <th>2</th>\n",
       "      <td>Supporting Black and Indigenous educators: Cre...</td>\n",
       "      <td>https://ethicalschools.org/2024/08/supporting-...</td>\n",
       "      <td>https://0da.6f4.myftpupload.com/2024/08/suppor...</td>\n",
       "      <td>Download file | Play in new window | Duration:...</td>\n",
       "    </tr>\n",
       "    <tr>\n",
       "      <th>3</th>\n",
       "      <td>Going deep: Student-directed learning in Perfo...</td>\n",
       "      <td>https://ethicalschools.org/2024/08/going-deep-...</td>\n",
       "      <td>https://0da.6f4.myftpupload.com/2024/08/going-...</td>\n",
       "      <td>Download file | Play in new window | Duration:...</td>\n",
       "    </tr>\n",
       "    <tr>\n",
       "      <th>4</th>\n",
       "      <td>Rebuilding the Black teacher pipeline: Advanci...</td>\n",
       "      <td>https://ethicalschools.org/2024/07/rebuilding-...</td>\n",
       "      <td>https://0da.6f4.myftpupload.com/2024/07/rebuil...</td>\n",
       "      <td>Download file | Play in new window | Duration:...</td>\n",
       "    </tr>\n",
       "  </tbody>\n",
       "</table>\n",
       "</div>"
      ],
      "text/plain": [
       "                                        Episode Name  \\\n",
       "0  Middle schoolers as scholars: Critical partici...   \n",
       "1  Equity by design: residency-focused teacher ed...   \n",
       "2  Supporting Black and Indigenous educators: Cre...   \n",
       "3  Going deep: Student-directed learning in Perfo...   \n",
       "4  Rebuilding the Black teacher pipeline: Advanci...   \n",
       "\n",
       "                                         Episode URL  \\\n",
       "0  https://ethicalschools.org/2024/10/middle-scho...   \n",
       "1  https://ethicalschools.org/2024/09/equity-by-d...   \n",
       "2  https://ethicalschools.org/2024/08/supporting-...   \n",
       "3  https://ethicalschools.org/2024/08/going-deep-...   \n",
       "4  https://ethicalschools.org/2024/07/rebuilding-...   \n",
       "\n",
       "                                   Transcription URL  \\\n",
       "0  https://0da.6f4.myftpupload.com/2024/10/middle...   \n",
       "1  https://0da.6f4.myftpupload.com/2024/09/equity...   \n",
       "2  https://0da.6f4.myftpupload.com/2024/08/suppor...   \n",
       "3  https://0da.6f4.myftpupload.com/2024/08/going-...   \n",
       "4  https://0da.6f4.myftpupload.com/2024/07/rebuil...   \n",
       "\n",
       "                                  Transcription Text  \n",
       "0  Download file | Play in new window | Duration:...  \n",
       "1  Download file | Play in new window | Duration:...  \n",
       "2  Download file | Play in new window | Duration:...  \n",
       "3  Download file | Play in new window | Duration:...  \n",
       "4  Download file | Play in new window | Duration:...  "
      ]
     },
     "execution_count": 1,
     "metadata": {},
     "output_type": "execute_result"
    }
   ],
   "source": [
    "import pandas as pd\n",
    "\n",
    "# Path to your CSV file\n",
    "file_path = \"/Users/maxplush/Documents/podcastscraper/episodes_transcriptions.csv\"\n",
    "\n",
    "# Read the CSV into a DataFrame\n",
    "df = pd.read_csv(file_path)\n",
    "\n",
    "# Display the first 5 rows of the DataFrame\n",
    "df.head()"
   ]
  },
  {
   "cell_type": "code",
   "execution_count": 2,
   "metadata": {},
   "outputs": [
    {
     "name": "stdout",
     "output_type": "stream",
     "text": [
      "Number of rows: 200\n"
     ]
    }
   ],
   "source": [
    "num_rows = df.shape[0]\n",
    "print(f\"Number of rows: {num_rows}\")"
   ]
  }
 ],
 "metadata": {
  "kernelspec": {
   "display_name": "venv",
   "language": "python",
   "name": "python3"
  },
  "language_info": {
   "codemirror_mode": {
    "name": "ipython",
    "version": 3
   },
   "file_extension": ".py",
   "mimetype": "text/x-python",
   "name": "python",
   "nbconvert_exporter": "python",
   "pygments_lexer": "ipython3",
   "version": "3.12.5"
  }
 },
 "nbformat": 4,
 "nbformat_minor": 2
}
