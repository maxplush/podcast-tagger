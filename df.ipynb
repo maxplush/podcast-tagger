{
 "cells": [
  {
   "cell_type": "code",
   "execution_count": 5,
   "metadata": {},
   "outputs": [
    {
     "data": {
      "text/html": [
       "<div>\n",
       "<style scoped>\n",
       "    .dataframe tbody tr th:only-of-type {\n",
       "        vertical-align: middle;\n",
       "    }\n",
       "\n",
       "    .dataframe tbody tr th {\n",
       "        vertical-align: top;\n",
       "    }\n",
       "\n",
       "    .dataframe thead th {\n",
       "        text-align: right;\n",
       "    }\n",
       "</style>\n",
       "<table border=\"1\" class=\"dataframe\">\n",
       "  <thead>\n",
       "    <tr style=\"text-align: right;\">\n",
       "      <th></th>\n",
       "      <th>Episode Name</th>\n",
       "      <th>Episode URL</th>\n",
       "      <th>Transcription Text</th>\n",
       "    </tr>\n",
       "  </thead>\n",
       "  <tbody>\n",
       "    <tr>\n",
       "      <th>0</th>\n",
       "      <td>Middle schoolers as scholars: Critical partici...</td>\n",
       "      <td>https://ethicalschools.org/2024/10/middle-scho...</td>\n",
       "      <td>We speak with Dr. Sam Finesurrey, assistant pr...</td>\n",
       "    </tr>\n",
       "    <tr>\n",
       "      <th>1</th>\n",
       "      <td>Equity by design: residency-focused teacher ed...</td>\n",
       "      <td>https://ethicalschools.org/2024/09/equity-by-d...</td>\n",
       "      <td>We speak with Dr. Diana Turk, Chair of the Dep...</td>\n",
       "    </tr>\n",
       "    <tr>\n",
       "      <th>2</th>\n",
       "      <td>Supporting Black and Indigenous educators: Cre...</td>\n",
       "      <td>https://ethicalschools.org/2024/08/supporting-...</td>\n",
       "      <td>We speak with Danielle Bryant, Director of Equ...</td>\n",
       "    </tr>\n",
       "    <tr>\n",
       "      <th>3</th>\n",
       "      <td>Going deep: Student-directed learning in Perfo...</td>\n",
       "      <td>https://ethicalschools.org/2024/08/going-deep-...</td>\n",
       "      <td>We speak with Adam Grumbach, social studies pr...</td>\n",
       "    </tr>\n",
       "    <tr>\n",
       "      <th>4</th>\n",
       "      <td>Rebuilding the Black teacher pipeline: Advanci...</td>\n",
       "      <td>https://ethicalschools.org/2024/07/rebuilding-...</td>\n",
       "      <td>Ansharaye Hines and Mimi McKee of the Center f...</td>\n",
       "    </tr>\n",
       "  </tbody>\n",
       "</table>\n",
       "</div>"
      ],
      "text/plain": [
       "                                        Episode Name  \\\n",
       "0  Middle schoolers as scholars: Critical partici...   \n",
       "1  Equity by design: residency-focused teacher ed...   \n",
       "2  Supporting Black and Indigenous educators: Cre...   \n",
       "3  Going deep: Student-directed learning in Perfo...   \n",
       "4  Rebuilding the Black teacher pipeline: Advanci...   \n",
       "\n",
       "                                         Episode URL  \\\n",
       "0  https://ethicalschools.org/2024/10/middle-scho...   \n",
       "1  https://ethicalschools.org/2024/09/equity-by-d...   \n",
       "2  https://ethicalschools.org/2024/08/supporting-...   \n",
       "3  https://ethicalschools.org/2024/08/going-deep-...   \n",
       "4  https://ethicalschools.org/2024/07/rebuilding-...   \n",
       "\n",
       "                                  Transcription Text  \n",
       "0  We speak with Dr. Sam Finesurrey, assistant pr...  \n",
       "1  We speak with Dr. Diana Turk, Chair of the Dep...  \n",
       "2  We speak with Danielle Bryant, Director of Equ...  \n",
       "3  We speak with Adam Grumbach, social studies pr...  \n",
       "4  Ansharaye Hines and Mimi McKee of the Center f...  "
      ]
     },
     "execution_count": 5,
     "metadata": {},
     "output_type": "execute_result"
    }
   ],
   "source": [
    "import pandas as pd\n",
    "\n",
    "# Path to your CSV file\n",
    "file_path = \"/Users/maxplush/Documents/podcastscraper/episodes_transcriptions.csv\"\n",
    "\n",
    "# Read the CSV into a DataFrame\n",
    "df = pd.read_csv(file_path)\n",
    "\n",
    "# Display the first 5 rows of the DataFrame\n",
    "df.head()"
   ]
  },
  {
   "cell_type": "code",
   "execution_count": 2,
   "metadata": {},
   "outputs": [
    {
     "name": "stdout",
     "output_type": "stream",
     "text": [
      "Number of rows: 200\n"
     ]
    }
   ],
   "source": [
    "num_rows = df.shape[0]\n",
    "print(f\"Number of rows: {num_rows}\")"
   ]
  },
  {
   "cell_type": "code",
   "execution_count": 8,
   "metadata": {},
   "outputs": [
    {
     "name": "stdout",
     "output_type": "stream",
     "text": [
      "Episode Name          Going deep: Student-directed learning in Perfo...\n",
      "Episode URL           https://ethicalschools.org/2024/08/going-deep-...\n",
      "Transcription URL     https://0da.6f4.myftpupload.com/2024/08/going-...\n",
      "Transcription Text    Download file | Play in new window | Duration:...\n",
      "Name: 3, dtype: object\n"
     ]
    }
   ],
   "source": [
    "first_row = df.iloc[3]\n",
    "print(first_row)"
   ]
  },
  {
   "cell_type": "code",
   "execution_count": 10,
   "metadata": {},
   "outputs": [
    {
     "name": "stdout",
     "output_type": "stream",
     "text": [
      "Download file | Play in new window | Duration: 00:47:45 | Recorded on August 11, 2022\n",
      "Subscribe: Apple Podcasts | CastBox | Deezer | Google Podcasts | Spotify | Stitcher | iHeartRadio\n",
      "\n",
      "We speak with Dr. Kevin Kumashiro, a founder of Education Deans for Justice and Equity and organizer of the International Conferences on Education and Justice. Dr. Kumashiro describes how education scholars across the country are forming professional communities, both to build their capacity and to speak collectively on issues of public policy, leveraging their research to promote justice and equity. He argues that progressives must cease ceding the framework of education policy to corporate forces.\n",
      "\n",
      "Overview\n",
      "00:00-00:47 Intros\n",
      "00:47-02:15 Importance of scholars collectively addressing policy issues\n",
      "02:15-05:08 Horizontal organizing\n",
      "05:08-09:03 Examples of public statements on policy issues\n",
      "09:03-15:35 Different nature of different stalwarts—intersection of mobilization, public education and advocacy\n",
      "15:35-20:12 CareEd in California\n",
      "20:12-24:22 Education Deans for Justice and Equity\n",
      "24:22-26:18 “Think tank” aspects\n",
      "26:18-32:02 EDJE Framework for Assessment and Transformation\n",
      "32:02-40:59 “Surrender”: How progressives are losing some of the biggest battles to the corporate sector\n",
      "40:59-44:12 12 International Conference on Education and Justice in October 2022\n",
      "44:12- Outro\n",
      "Transcript\n",
      "Click here to see the full transcript of this episode.\n",
      "References\n",
      "Soundtrack by Poddington Bear\n",
      "\n"
     ]
    }
   ],
   "source": [
    "first_cell = df['Transcription Text'].iloc[49]\n",
    "print(first_cell)"
   ]
  }
 ],
 "metadata": {
  "kernelspec": {
   "display_name": "venv",
   "language": "python",
   "name": "python3"
  },
  "language_info": {
   "codemirror_mode": {
    "name": "ipython",
    "version": 3
   },
   "file_extension": ".py",
   "mimetype": "text/x-python",
   "name": "python",
   "nbconvert_exporter": "python",
   "pygments_lexer": "ipython3",
   "version": "3.12.5"
  }
 },
 "nbformat": 4,
 "nbformat_minor": 2
}
